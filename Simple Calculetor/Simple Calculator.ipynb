{
 "cells": [
  {
   "cell_type": "code",
   "execution_count": 4,
   "id": "f81af05f-77f7-44d7-99e2-efc4c36df091",
   "metadata": {},
   "outputs": [
    {
     "name": "stdin",
     "output_type": "stream",
     "text": [
      "Please enter first number 7\n",
      "please enter secound number 2\n",
      "enter operator,(+,-, *,/): *\n"
     ]
    },
    {
     "name": "stdout",
     "output_type": "stream",
     "text": [
      "Result: 14\n"
     ]
    }
   ],
   "source": [
    "num1 = int(input(\"Please enter first number\"))\n",
    "num2 = int(input(\"please enter secound number\"))\n",
    "operation = input(\"enter operator,(+,-, *,/):\")\n",
    "\n",
    "if operation == \"+\":\n",
    "    result = num1 + num2\n",
    "elif operation == \"-\":\n",
    "    result = num1 - num2\n",
    "elif operation == \"*\":\n",
    "    result = num1 * num2\n",
    "elif operation == \"/\":\n",
    "    if num !=0:\n",
    "        result = num1 / num2\n",
    "    else:\n",
    "        result= \"Error!, Division by zero.\"\n",
    "else:\n",
    "    result = \"Invalid Operation.\"\n",
    "\n",
    "print(\"Result:\",result)"
   ]
  },
  {
   "cell_type": "code",
   "execution_count": 5,
   "id": "de61c9ad-38f2-487e-b447-5d4ca319fff5",
   "metadata": {},
   "outputs": [
    {
     "name": "stdin",
     "output_type": "stream",
     "text": [
      "Please enter first number (or type 'exit' to quit):  2\n",
      "Please enter second number:  6\n",
      "Enter operator (+, -, *, /):  /\n"
     ]
    },
    {
     "name": "stdout",
     "output_type": "stream",
     "text": [
      "Result: 0.3333333333333333\n"
     ]
    },
    {
     "name": "stdin",
     "output_type": "stream",
     "text": [
      "Please enter first number (or type 'exit' to quit):  exit\n"
     ]
    },
    {
     "name": "stdout",
     "output_type": "stream",
     "text": [
      "Exiting calculator. Goodbye!\n"
     ]
    }
   ],
   "source": [
    "def calculator():\n",
    "    # Get user input\n",
    "    num1_input = input(\"Please enter first number (or type 'exit' to quit): \")\n",
    "    if num1_input.lower() == 'exit':\n",
    "        print(\"Exiting calculator. Goodbye!\")\n",
    "        return\n",
    "\n",
    "    try:\n",
    "        num1 = float(num1_input)\n",
    "        num2 = float(input(\"Please enter second number: \"))\n",
    "        operation = input(\"Enter operator (+, -, *, /): \")\n",
    "\n",
    "        if operation == \"+\":\n",
    "            result = num1 + num2\n",
    "        elif operation == \"-\":\n",
    "            result = num1 - num2\n",
    "        elif operation == \"*\":\n",
    "            result = num1 * num2\n",
    "        elif operation == \"/\":\n",
    "            if num2 != 0:\n",
    "                result = num1 / num2\n",
    "            else:\n",
    "                result = \"Error! Division by zero.\"\n",
    "        else:\n",
    "            result = \"Invalid Operation.\"\n",
    "\n",
    "        print(\"Result:\", result)\n",
    "    except ValueError:\n",
    "        print(\"Invalid input. Please enter numeric values.\")\n",
    "\n",
    "    # Call the function again (recursive call)\n",
    "    calculator()\n",
    "\n",
    "# Start the calculator\n",
    "calculator()\n"
   ]
  },
  {
   "cell_type": "code",
   "execution_count": null,
   "id": "c4f4e368-b052-4d17-ba18-441794aef3c4",
   "metadata": {},
   "outputs": [],
   "source": [
    "def calc():\n",
    "    num1 = input(\"Enter first number (or 'exit' to quit): \")\n",
    "    if num1.lower() == 'exit':\n",
    "        print(\"Goodbye!\")\n",
    "        return\n",
    "    try:\n",
    "        num1, num2 = float(num1), float(input(\"Enter second number: \"))\n",
    "        op = input(\"Enter operator (+, -, *, /): \")\n",
    "        if op == '+':\n",
    "            print(\"Result:\", num1 + num2)\n",
    "        elif op == '-':\n",
    "            print(\"Result:\", num1 - num2)\n",
    "        elif op == '*':\n",
    "            print(\"Result:\", num1 * num2)\n",
    "        elif op == '/':\n",
    "            print(\"Result:\", num1 / num2 if num2 != 0 else \"Error! Division by zero.\")\n",
    "        else:\n",
    "            print(\"Invalid operator.\")\n",
    "    except:\n",
    "        print(\"Invalid input.\")\n",
    "    calc()  # Recursive call\n",
    "\n",
    "calc()\n"
   ]
  }
 ],
 "metadata": {
  "kernelspec": {
   "display_name": "Python 3 (ipykernel)",
   "language": "python",
   "name": "python3"
  },
  "language_info": {
   "codemirror_mode": {
    "name": "ipython",
    "version": 3
   },
   "file_extension": ".py",
   "mimetype": "text/x-python",
   "name": "python",
   "nbconvert_exporter": "python",
   "pygments_lexer": "ipython3",
   "version": "3.13.2"
  }
 },
 "nbformat": 4,
 "nbformat_minor": 5
}
