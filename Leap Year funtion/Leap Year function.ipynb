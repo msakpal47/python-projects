{
 "cells": [
  {
   "cell_type": "code",
   "execution_count": null,
   "id": "a4c7ef44-5dfc-4ccb-9b8f-a66772382b15",
   "metadata": {},
   "outputs": [],
   "source": []
  }
 ],
 "metadata": {
  "kernelspec": {
   "display_name": "",
   "name": ""
  },
  "language_info": {
   "name": ""
  }
 },
 "nbformat": 4,
 "nbformat_minor": 5
}
