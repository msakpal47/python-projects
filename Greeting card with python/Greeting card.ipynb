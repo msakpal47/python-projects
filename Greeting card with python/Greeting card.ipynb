{
 "cells": [
  {
   "cell_type": "code",
   "execution_count": 1,
   "id": "c15d4ea3-f70b-4c45-9dba-ca6926b0c9d4",
   "metadata": {},
   "outputs": [
    {
     "name": "stdout",
     "output_type": "stream",
     "text": [
      "Requirement already satisfied: pillow in c:\\users\\admin\\anaconda3\\lib\\site-packages (10.3.0)\n",
      "Collecting reportlab\n",
      "  Downloading reportlab-4.2.5-py3-none-any.whl.metadata (1.5 kB)\n",
      "Requirement already satisfied: requests in c:\\users\\admin\\anaconda3\\lib\\site-packages (2.32.2)\n",
      "Requirement already satisfied: chardet in c:\\users\\admin\\anaconda3\\lib\\site-packages (from reportlab) (4.0.0)\n",
      "Requirement already satisfied: charset-normalizer<4,>=2 in c:\\users\\admin\\anaconda3\\lib\\site-packages (from requests) (2.0.4)\n",
      "Requirement already satisfied: idna<4,>=2.5 in c:\\users\\admin\\anaconda3\\lib\\site-packages (from requests) (3.7)\n",
      "Requirement already satisfied: urllib3<3,>=1.21.1 in c:\\users\\admin\\anaconda3\\lib\\site-packages (from requests) (2.2.2)\n",
      "Requirement already satisfied: certifi>=2017.4.17 in c:\\users\\admin\\anaconda3\\lib\\site-packages (from requests) (2024.8.30)\n",
      "Downloading reportlab-4.2.5-py3-none-any.whl (1.9 MB)\n",
      "   ---------------------------------------- 0.0/1.9 MB ? eta -:--:--\n",
      "   ---------------------------------------- 0.0/1.9 MB ? eta -:--:--\n",
      "   ---------------------------------------- 0.0/1.9 MB ? eta -:--:--\n",
      "   ---------------------------------------- 0.0/1.9 MB ? eta -:--:--\n",
      "    --------------------------------------- 0.0/1.9 MB 326.8 kB/s eta 0:00:06\n",
      "   -- ------------------------------------- 0.1/1.9 MB 726.2 kB/s eta 0:00:03\n",
      "   ----- ---------------------------------- 0.3/1.9 MB 1.5 MB/s eta 0:00:02\n",
      "   --------- ------------------------------ 0.5/1.9 MB 1.9 MB/s eta 0:00:01\n",
      "   -------------------- ------------------- 1.0/1.9 MB 3.4 MB/s eta 0:00:01\n",
      "   --------------------------- ------------ 1.4/1.9 MB 4.1 MB/s eta 0:00:01\n",
      "   ---------------------------------------  1.9/1.9 MB 5.1 MB/s eta 0:00:01\n",
      "   ---------------------------------------- 1.9/1.9 MB 4.7 MB/s eta 0:00:00\n",
      "Installing collected packages: reportlab\n",
      "Successfully installed reportlab-4.2.5\n",
      "Note: you may need to restart the kernel to use updated packages.\n"
     ]
    }
   ],
   "source": [
    "pip install pillow reportlab requests\n"
   ]
  },
  {
   "cell_type": "code",
   "execution_count": 7,
   "id": "e2f7cadf-0a2f-4c8e-9f74-33baee501782",
   "metadata": {},
   "outputs": [
    {
     "name": "stdout",
     "output_type": "stream",
     "text": [
      "Saved greeting card as greeting_card.jpg\n",
      "Saved greeting card as greeting_card.pdf\n"
     ]
    }
   ],
   "source": [
    "# Example usage\n",
    "greeting_text = \"Good Day!\"\n",
    "image_url = \"https://freeaipikvid.com/wp-content/uploads/2024/05/Good-Morning-AI-Images-32.jpeg\"  # Replace with the direct image URL\n",
    "\n",
    "create_greeting_card(greeting_text, image_url)\n"
   ]
  },
  {
   "cell_type": "code",
   "execution_count": 11,
   "id": "34216162-c26d-4962-b362-5e3574b89198",
   "metadata": {},
   "outputs": [
    {
     "name": "stdout",
     "output_type": "stream",
     "text": [
      "Saved greeting card as greeting_card.jpg\n",
      "Saved greeting card as greeting_card.pdf\n"
     ]
    }
   ],
   "source": [
    "import os\n",
    "import requests\n",
    "from PIL import Image, ImageDraw, ImageFont\n",
    "from reportlab.lib.pagesizes import letter\n",
    "from reportlab.pdfgen import canvas\n",
    "\n",
    "def create_greeting_card(text, image_url):\n",
    "    # Download the image\n",
    "    response = requests.get(image_url)\n",
    "    img = Image.open(requests.get(image_url, stream=True).raw)\n",
    "\n",
    "    # Create a blank image\n",
    "    width, height = img.size\n",
    "    greeting_card = Image.new('RGB', (width, height), (255, 255, 255))\n",
    "    greeting_card.paste(img, (0, 0))\n",
    "\n",
    "    # Draw text on the image\n",
    "    draw = ImageDraw.Draw(greeting_card)\n",
    "    \n",
    "    # Use a built-in font or specify your own\n",
    "    font = ImageFont.load_default()\n",
    "\n",
    "    # Define text position and color\n",
    "    text_x = 50\n",
    "    text_y = height - 100\n",
    "    text_color = (255, 255, 255)  # White color\n",
    "\n",
    "    # Add text to the card\n",
    "    draw.text((text_x, text_y), text, fill=text_color, font=font)\n",
    "\n",
    "    # Save as JPG\n",
    "    jpg_filename = 'greeting_card.jpg'\n",
    "    greeting_card.save(jpg_filename)\n",
    "    print(f'Saved greeting card as {jpg_filename}')\n",
    "\n",
    "    # Save as PDF\n",
    "    pdf_filename = 'greeting_card.pdf'\n",
    "    c = canvas.Canvas(pdf_filename, pagesize=letter)\n",
    "    c.drawImage(jpg_filename, 0, 0, width=width, height=height)\n",
    "    c.save()\n",
    "    print(f'Saved greeting card as {pdf_filename}')\n",
    "\n",
    "# Example usage\n",
    "greeting_text = \"Good Day!\"\n",
    "image_url = \"https://freeaipikvid.com/wp-content/uploads/2024/05/Good-Morning-AI-Images-32.jpeg\"  # Replace with a valid direct image URL\n",
    "\n",
    "create_greeting_card(greeting_text, image_url)\n"
   ]
  },
  {
   "cell_type": "code",
   "execution_count": null,
   "id": "edff826d-2739-435d-b35a-a44a2c89b609",
   "metadata": {},
   "outputs": [],
   "source": []
  },
  {
   "cell_type": "code",
   "execution_count": null,
   "id": "42c64d46-f94f-4c7b-a942-0c1078021334",
   "metadata": {},
   "outputs": [],
   "source": []
  }
 ],
 "metadata": {
  "kernelspec": {
   "display_name": "Python 3 (ipykernel)",
   "language": "python",
   "name": "python3"
  },
  "language_info": {
   "codemirror_mode": {
    "name": "ipython",
    "version": 3
   },
   "file_extension": ".py",
   "mimetype": "text/x-python",
   "name": "python",
   "nbconvert_exporter": "python",
   "pygments_lexer": "ipython3",
   "version": "3.12.4"
  }
 },
 "nbformat": 4,
 "nbformat_minor": 5
}
